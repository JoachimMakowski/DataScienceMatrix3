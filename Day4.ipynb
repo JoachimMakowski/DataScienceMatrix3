{
  "nbformat": 4,
  "nbformat_minor": 0,
  "metadata": {
    "colab": {
      "name": "Day4.ipynb",
      "provenance": [],
      "mount_file_id": "1LIBLK77MMNj71zpQi2yXa6qQHRf760D_",
      "authorship_tag": "ABX9TyO2FreiiosFYBsXLJ8CSiQI",
      "include_colab_link": true
    },
    "kernelspec": {
      "name": "python3",
      "display_name": "Python 3"
    },
    "accelerator": "GPU"
  },
  "cells": [
    {
      "cell_type": "markdown",
      "metadata": {
        "id": "view-in-github",
        "colab_type": "text"
      },
      "source": [
        "<a href=\"https://colab.research.google.com/github/JoachimMakowski/DataScienceMatrix3/blob/master/Day4.ipynb\" target=\"_parent\"><img src=\"https://colab.research.google.com/assets/colab-badge.svg\" alt=\"Open In Colab\"/></a>"
      ]
    },
    {
      "cell_type": "code",
      "metadata": {
        "id": "iDgO8KK_0GyB",
        "colab_type": "code",
        "colab": {
          "base_uri": "https://localhost:8080/",
          "height": 54
        },
        "outputId": "722970bc-938c-45f1-bf34-d79636bf022e"
      },
      "source": [
        "import pandas as pd\n",
        "import numpy as np\n",
        "import tensorflow as tf\n",
        "import matplotlib.pyplot as plt\n",
        "from skimage import color,exposure\n",
        "from tensorflow.keras.models import Sequential\n",
        "from tensorflow.keras.layers import Conv2D, MaxPool2D, Dense,Flatten, Dropout\n",
        "from tensorflow.keras.utils import to_categorical\n",
        "\n",
        "import os\n",
        "import datetime\n",
        "\n",
        "from sklearn.metrics import accuracy_score\n",
        "%load_ext tensorboard"
      ],
      "execution_count": 31,
      "outputs": [
        {
          "output_type": "stream",
          "text": [
            "The tensorboard extension is already loaded. To reload it, use:\n",
            "  %reload_ext tensorboard\n"
          ],
          "name": "stdout"
        }
      ]
    },
    {
      "cell_type": "code",
      "metadata": {
        "id": "pMPeOWRz1D49",
        "colab_type": "code",
        "colab": {
          "base_uri": "https://localhost:8080/",
          "height": 35
        },
        "outputId": "2b68fa55-8e57-4c10-d7f4-41f05770d5e0"
      },
      "source": [
        "cd '/content/drive/My Drive/Colab Notebooks/DataScienceMatrix/Matrix_three/DataScienceMatrix3'"
      ],
      "execution_count": 4,
      "outputs": [
        {
          "output_type": "stream",
          "text": [
            "/content/drive/My Drive/Colab Notebooks/DataScienceMatrix/Matrix_three/DataScienceMatrix3\n"
          ],
          "name": "stdout"
        }
      ]
    },
    {
      "cell_type": "code",
      "metadata": {
        "id": "n8owmt3T1GJB",
        "colab_type": "code",
        "colab": {}
      },
      "source": [
        "train = pd.read_pickle('Data/train.p')\n",
        "test = pd.read_pickle('Data/test.p')\n",
        "\n",
        "X_train, y_train = train['features'], train['labels']\n",
        "X_test, y_test = test['features'], test['labels']"
      ],
      "execution_count": 0,
      "outputs": []
    },
    {
      "cell_type": "code",
      "metadata": {
        "id": "U2yOPdMB1hMG",
        "colab_type": "code",
        "colab": {
          "base_uri": "https://localhost:8080/",
          "height": 35
        },
        "outputId": "f9b201d9-e956-4753-aba2-91ae31182681"
      },
      "source": [
        "y_train"
      ],
      "execution_count": 6,
      "outputs": [
        {
          "output_type": "execute_result",
          "data": {
            "text/plain": [
              "array([41, 41, 41, ..., 25, 25, 25], dtype=uint8)"
            ]
          },
          "metadata": {
            "tags": []
          },
          "execution_count": 6
        }
      ]
    },
    {
      "cell_type": "code",
      "metadata": {
        "id": "4u1D4rzT1ll2",
        "colab_type": "code",
        "colab": {
          "base_uri": "https://localhost:8080/",
          "height": 35
        },
        "outputId": "dd852e6e-d224-4662-b303-1ef80e0667ac"
      },
      "source": [
        "len(np.unique(y_train))"
      ],
      "execution_count": 7,
      "outputs": [
        {
          "output_type": "execute_result",
          "data": {
            "text/plain": [
              "43"
            ]
          },
          "metadata": {
            "tags": []
          },
          "execution_count": 7
        }
      ]
    },
    {
      "cell_type": "code",
      "metadata": {
        "id": "QBTdy2hh1sFe",
        "colab_type": "code",
        "colab": {}
      },
      "source": [
        "if y_train.ndim == 1:y_train = to_categorical(y_train)\n",
        "if y_test.ndim == 1:y_test = to_categorical(y_test)"
      ],
      "execution_count": 0,
      "outputs": []
    },
    {
      "cell_type": "code",
      "metadata": {
        "id": "Fw8eWBV-1zzw",
        "colab_type": "code",
        "colab": {}
      },
      "source": [
        "input_shape = X_train.shape[1:]\n",
        "num_classes = y_train.shape[1]"
      ],
      "execution_count": 0,
      "outputs": []
    },
    {
      "cell_type": "code",
      "metadata": {
        "id": "MdCNRCcI11WL",
        "colab_type": "code",
        "colab": {
          "base_uri": "https://localhost:8080/",
          "height": 54
        },
        "outputId": "61262d8e-16ba-4a4f-e63a-d42481b52584"
      },
      "source": [
        "model = Sequential([\n",
        "                    Conv2D(filters=64,kernel_size=(3,3),activation = 'relu',input_shape = input_shape),\n",
        "                    \n",
        "                    Flatten(),\n",
        "\n",
        "                    Dense(num_classes,activation='softmax')\n",
        "])\n",
        "#model.summary()\n",
        "\n",
        "model.compile(loss = 'categorical_crossentropy',optimizer = 'Adam',metrics=['accuracy'])\n",
        "model.fit(X_train,y_train)"
      ],
      "execution_count": 10,
      "outputs": [
        {
          "output_type": "stream",
          "text": [
            "1088/1088 [==============================] - 3s 3ms/step - loss: 7.7014 - accuracy: 0.7965\n"
          ],
          "name": "stdout"
        },
        {
          "output_type": "execute_result",
          "data": {
            "text/plain": [
              "<tensorflow.python.keras.callbacks.History at 0x7fcfc0225240>"
            ]
          },
          "metadata": {
            "tags": []
          },
          "execution_count": 10
        }
      ]
    },
    {
      "cell_type": "code",
      "metadata": {
        "id": "i78aLd8216C7",
        "colab_type": "code",
        "colab": {}
      },
      "source": [
        "def get_cnn_v1(input_shape,num_classes): #get cnn version1\n",
        "  return Sequential([\n",
        "                      Conv2D(filters=64,kernel_size=(3,3),activation = 'relu',input_shape = input_shape),\n",
        "                      \n",
        "                      Flatten(),\n",
        "\n",
        "                      Dense(num_classes,activation='softmax')\n",
        "  ])\n",
        "  #model.summary()\n",
        "def train_model(model,X_train,y_train,params_fit = {}):\n",
        "  model.compile(loss = 'categorical_crossentropy',optimizer = 'Adam',metrics=['accuracy'])\n",
        "  \n",
        "  logdir = os.path.join('logs',datetime.datetime.now().strftime('%Y%m%d-%H%M%S'))\n",
        "  tensorboard_callback = tf.keras.callbacks.TensorBoard(logdir,histogram_freq=1)\n",
        "  \n",
        "  model.fit(\n",
        "      X_train,\n",
        "      y_train,\n",
        "      batch_size = params_fit.get('batch_size',128),\n",
        "      epochs = params_fit.get('epochs',5),\n",
        "      verbose = params_fit.get('verbose',1),\n",
        "      validation_data = params_fit.get('validation_data',(X_train,y_train)),\n",
        "      callbacks = [tensorboard_callback]\n",
        "      )\n",
        "  \n",
        "  return model"
      ],
      "execution_count": 0,
      "outputs": []
    },
    {
      "cell_type": "code",
      "metadata": {
        "id": "kQ_xWXOF1_D0",
        "colab_type": "code",
        "colab": {
          "base_uri": "https://localhost:8080/",
          "height": 201
        },
        "outputId": "511c3e63-5d15-42ca-83b6-9d2d6cd71150"
      },
      "source": [
        "model = get_cnn_v1(input_shape,num_classes)\n",
        "model_trained = train_model(model,X_train, y_train)"
      ],
      "execution_count": 14,
      "outputs": [
        {
          "output_type": "stream",
          "text": [
            "Epoch 1/5\n",
            "272/272 [==============================] - 2s 9ms/step - loss: 40.8417 - accuracy: 0.7077 - val_loss: 0.2876 - val_accuracy: 0.9312\n",
            "Epoch 2/5\n",
            "272/272 [==============================] - 2s 8ms/step - loss: 0.2798 - accuracy: 0.9355 - val_loss: 0.1822 - val_accuracy: 0.9578\n",
            "Epoch 3/5\n",
            "272/272 [==============================] - 2s 9ms/step - loss: 0.1653 - accuracy: 0.9597 - val_loss: 0.1068 - val_accuracy: 0.9771\n",
            "Epoch 4/5\n",
            "272/272 [==============================] - 2s 9ms/step - loss: 0.1331 - accuracy: 0.9685 - val_loss: 0.0916 - val_accuracy: 0.9774\n",
            "Epoch 5/5\n",
            "272/272 [==============================] - 2s 9ms/step - loss: 0.0979 - accuracy: 0.9764 - val_loss: 0.0689 - val_accuracy: 0.9838\n"
          ],
          "name": "stdout"
        }
      ]
    },
    {
      "cell_type": "code",
      "metadata": {
        "id": "wcv5gdO62B7W",
        "colab_type": "code",
        "colab": {
          "base_uri": "https://localhost:8080/",
          "height": 256
        },
        "outputId": "370dddbd-de23-4317-b641-2cbb9df4a429"
      },
      "source": [
        "y_pred_prob = model_trained.predict(X_test)\n",
        "y_pred_prob"
      ],
      "execution_count": 16,
      "outputs": [
        {
          "output_type": "execute_result",
          "data": {
            "text/plain": [
              "array([[4.9862425e-10, 6.4023235e-04, 3.6364180e-01, ..., 4.4592176e-04,\n",
              "        1.9470126e-03, 2.3760137e-04],\n",
              "       [1.4541262e-09, 3.6271522e-04, 9.5436782e-01, ..., 1.5272242e-05,\n",
              "        6.0288394e-06, 1.4689701e-03],\n",
              "       [9.2248133e-11, 2.6836718e-04, 6.4695351e-02, ..., 5.2910946e-05,\n",
              "        2.1926606e-04, 3.6545389e-05],\n",
              "       ...,\n",
              "       [2.1291242e-03, 4.3145041e-03, 1.9352349e-02, ..., 3.3329236e-03,\n",
              "        2.7887326e-02, 2.6437356e-03],\n",
              "       [9.9886218e-03, 5.5687861e-03, 1.7314769e-02, ..., 9.6320343e-04,\n",
              "        1.8632928e-02, 4.8158863e-03],\n",
              "       [3.1392388e-03, 2.4561933e-03, 1.0762864e-02, ..., 1.2140067e-03,\n",
              "        7.5078350e-03, 3.7631383e-03]], dtype=float32)"
            ]
          },
          "metadata": {
            "tags": []
          },
          "execution_count": 16
        }
      ]
    },
    {
      "cell_type": "code",
      "metadata": {
        "id": "B1sYbS6m2kWU",
        "colab_type": "code",
        "colab": {
          "base_uri": "https://localhost:8080/",
          "height": 219
        },
        "outputId": "eda09b80-e709-4127-98ce-3486362ee509"
      },
      "source": [
        "y_pred_prob[400]"
      ],
      "execution_count": 27,
      "outputs": [
        {
          "output_type": "execute_result",
          "data": {
            "text/plain": [
              "array([4.3242377e-01, 5.3452843e-01, 3.3459642e-08, 2.6474075e-18,\n",
              "       3.3022780e-02, 2.4958357e-05, 3.0568368e-16, 9.5407848e-12,\n",
              "       9.8359694e-15, 1.3367775e-10, 2.9389132e-12, 8.3227585e-17,\n",
              "       5.2999852e-16, 3.8106733e-15, 3.9197741e-16, 2.1560995e-10,\n",
              "       1.1527698e-14, 2.1945914e-20, 2.5648858e-20, 3.5796040e-23,\n",
              "       3.3843223e-22, 6.9354126e-23, 2.2363073e-26, 6.2564534e-30,\n",
              "       8.6566503e-23, 2.0392555e-22, 3.1397849e-12, 5.1478500e-23,\n",
              "       3.3986953e-15, 1.7275960e-19, 4.2407799e-22, 6.9566291e-25,\n",
              "       4.2148788e-22, 6.6327477e-17, 1.2459275e-26, 1.8935912e-25,\n",
              "       9.8664023e-20, 2.6140173e-35, 4.2571986e-30, 6.7510299e-35,\n",
              "       7.7264317e-36, 2.8758836e-25, 3.8398659e-18], dtype=float32)"
            ]
          },
          "metadata": {
            "tags": []
          },
          "execution_count": 27
        }
      ]
    },
    {
      "cell_type": "code",
      "metadata": {
        "id": "Dz16MxsG4yA5",
        "colab_type": "code",
        "colab": {
          "base_uri": "https://localhost:8080/",
          "height": 283
        },
        "outputId": "b37ce9f3-575b-4e56-abac-59ddcc068a21"
      },
      "source": [
        "plt.bar(range(43),y_pred_prob[400])"
      ],
      "execution_count": 29,
      "outputs": [
        {
          "output_type": "execute_result",
          "data": {
            "text/plain": [
              "<BarContainer object of 43 artists>"
            ]
          },
          "metadata": {
            "tags": []
          },
          "execution_count": 29
        },
        {
          "output_type": "display_data",
          "data": {
            "image/png": "[encoded data removed]",
            "text/plain": [
              "<Figure size 432x288 with 1 Axes>"
            ]
          },
          "metadata": {
            "tags": []
          }
        }
      ]
    },
    {
      "cell_type": "code",
      "metadata": {
        "id": "loFtuU072zPq",
        "colab_type": "code",
        "colab": {
          "base_uri": "https://localhost:8080/",
          "height": 284
        },
        "outputId": "6dc47079-a0d3-4250-bdee-2758bc6fb4c7"
      },
      "source": [
        "plt.imshow(X_test[400])"
      ],
      "execution_count": 22,
      "outputs": [
        {
          "output_type": "execute_result",
          "data": {
            "text/plain": [
              "<matplotlib.image.AxesImage at 0x7fcf8808ccf8>"
            ]
          },
          "metadata": {
            "tags": []
          },
          "execution_count": 22
        },
        {
          "output_type": "display_data",
          "data": {
            "image/png": "[encoded data removed]",
            "text/plain": [
              "<Figure size 432x288 with 1 Axes>"
            ]
          },
          "metadata": {
            "tags": []
          }
        }
      ]
    },
    {
      "cell_type": "code",
      "metadata": {
        "id": "6AcyOIKW24zX",
        "colab_type": "code",
        "colab": {}
      },
      "source": [
        "df = pd.read_csv('Data/signnames.csv')\n",
        "labels_dict = df.to_dict()['b']"
      ],
      "execution_count": 0,
      "outputs": []
    },
    {
      "cell_type": "code",
      "metadata": {
        "id": "_EQnla4K3we7",
        "colab_type": "code",
        "colab": {}
      },
      "source": [
        "def predict(model_trained,X_test,y_test,scoring = accuracy_score):\n",
        "  y_test_norm = np.argmax(y_test,axis=1)\n",
        "\n",
        "  y_pred_prob = model_trained.predict(X_test)\n",
        "  y_pred = np.argmax(y_pred_prob,axis=1)\n",
        "\n",
        "  return scoring(y_test_norm,y_pred)"
      ],
      "execution_count": 0,
      "outputs": []
    },
    {
      "cell_type": "code",
      "metadata": {
        "id": "ueMC--JB7Odx",
        "colab_type": "code",
        "colab": {
          "base_uri": "https://localhost:8080/",
          "height": 35
        },
        "outputId": "20f3de44-85d4-45a2-c6c6-686bbbc05fae"
      },
      "source": [
        "predict(model_trained,X_test,y_test)"
      ],
      "execution_count": 36,
      "outputs": [
        {
          "output_type": "execute_result",
          "data": {
            "text/plain": [
              "0.8183673469387756"
            ]
          },
          "metadata": {
            "tags": []
          },
          "execution_count": 36
        }
      ]
    },
    {
      "cell_type": "code",
      "metadata": {
        "id": "p1GRG6Y-7oik",
        "colab_type": "code",
        "colab": {}
      },
      "source": [
        "def get_cnn_v2(input_shape,num_classes): #get cnn version1\n",
        "  return Sequential([\n",
        "                      Conv2D(filters=32,kernel_size=(3,3),activation = 'relu',input_shape = input_shape),\n",
        "                      MaxPool2D(),\n",
        "                      Dropout(0.3),\n",
        "                      Conv2D(filters=64,kernel_size=(3,3),activation = 'relu'),\n",
        "                      MaxPool2D(),\n",
        "                      Dropout(0.3),\n",
        "                      Flatten(),\n",
        "\n",
        "                      Dense(1024,activation='relu'),\n",
        "                      Dropout(0.3),\n",
        "                      \n",
        "                      Dense(num_classes,activation='softmax')\n",
        "  ])\n",
        "def train_and_predict(model):\n",
        "  model_trained = train_model(model,X_train, y_train)\n",
        "  return predict(model_trained,X_test,y_test)\n"
      ],
      "execution_count": 0,
      "outputs": []
    },
    {
      "cell_type": "code",
      "metadata": {
        "id": "sF5IY9we8x7y",
        "colab_type": "code",
        "colab": {
          "base_uri": "https://localhost:8080/",
          "height": 219
        },
        "outputId": "924c5413-21a3-4d53-aad0-e4a38894a781"
      },
      "source": [
        "train_and_predict(get_cnn_v2(input_shape,num_classes))"
      ],
      "execution_count": 41,
      "outputs": [
        {
          "output_type": "stream",
          "text": [
            "Epoch 1/5\n",
            "272/272 [==============================] - 3s 9ms/step - loss: 4.5063 - accuracy: 0.3169 - val_loss: 0.9960 - val_accuracy: 0.7461\n",
            "Epoch 2/5\n",
            "272/272 [==============================] - 2s 9ms/step - loss: 0.9466 - accuracy: 0.7235 - val_loss: 0.3310 - val_accuracy: 0.9239\n",
            "Epoch 3/5\n",
            "272/272 [==============================] - 2s 9ms/step - loss: 0.5089 - accuracy: 0.8481 - val_loss: 0.1456 - val_accuracy: 0.9661\n",
            "Epoch 4/5\n",
            "272/272 [==============================] - 2s 9ms/step - loss: 0.3413 - accuracy: 0.8987 - val_loss: 0.0836 - val_accuracy: 0.9818\n",
            "Epoch 5/5\n",
            "272/272 [==============================] - 2s 9ms/step - loss: 0.2495 - accuracy: 0.9263 - val_loss: 0.0571 - val_accuracy: 0.9877\n"
          ],
          "name": "stdout"
        },
        {
          "output_type": "execute_result",
          "data": {
            "text/plain": [
              "0.9301587301587302"
            ]
          },
          "metadata": {
            "tags": []
          },
          "execution_count": 41
        }
      ]
    },
    {
      "cell_type": "code",
      "metadata": {
        "id": "cskbVDOM9Zhf",
        "colab_type": "code",
        "colab": {
          "base_uri": "https://localhost:8080/",
          "height": 219
        },
        "outputId": "a6bfcfb7-6459-4426-80cf-39619c030ed4"
      },
      "source": [
        "def get_cnn_v3(input_shape,num_classes): #get cnn version1\n",
        "  return Sequential([\n",
        "                      Conv2D(filters=32,kernel_size=(3,3),activation = 'relu',input_shape = input_shape),\n",
        "                      Conv2D(filters=32,kernel_size=(3,3),activation = 'relu'),\n",
        "                      MaxPool2D(),\n",
        "                      Dropout(0.3),\n",
        "                      Conv2D(filters=64,kernel_size=(3,3),activation = 'relu'),\n",
        "                      Conv2D(filters=64,kernel_size=(3,3),activation = 'relu'),\n",
        "                      MaxPool2D(),\n",
        "                      Dropout(0.3),\n",
        "                     \n",
        "                      Flatten(),\n",
        "\n",
        "                      Dense(1024,activation='relu'),\n",
        "                      Dropout(0.3),\n",
        "                      \n",
        "                      Dense(num_classes,activation='softmax')\n",
        "  ])\n",
        "\n",
        "\n",
        "train_and_predict(get_cnn_v3(input_shape,num_classes))"
      ],
      "execution_count": 42,
      "outputs": [
        {
          "output_type": "stream",
          "text": [
            "Epoch 1/5\n",
            "272/272 [==============================] - 3s 12ms/step - loss: 2.3252 - accuracy: 0.5334 - val_loss: 0.3374 - val_accuracy: 0.9318\n",
            "Epoch 2/5\n",
            "272/272 [==============================] - 3s 11ms/step - loss: 0.4929 - accuracy: 0.8582 - val_loss: 0.1540 - val_accuracy: 0.9640\n",
            "Epoch 3/5\n",
            "272/272 [==============================] - 3s 11ms/step - loss: 0.2736 - accuracy: 0.9190 - val_loss: 0.0725 - val_accuracy: 0.9848\n",
            "Epoch 4/5\n",
            "272/272 [==============================] - 3s 11ms/step - loss: 0.2156 - accuracy: 0.9342 - val_loss: 0.0402 - val_accuracy: 0.9909\n",
            "Epoch 5/5\n",
            "272/272 [==============================] - 3s 11ms/step - loss: 0.1595 - accuracy: 0.9518 - val_loss: 0.0345 - val_accuracy: 0.9906\n"
          ],
          "name": "stdout"
        },
        {
          "output_type": "execute_result",
          "data": {
            "text/plain": [
              "0.9571428571428572"
            ]
          },
          "metadata": {
            "tags": []
          },
          "execution_count": 42
        }
      ]
    },
    {
      "cell_type": "code",
      "metadata": {
        "id": "GleveZBX-EMm",
        "colab_type": "code",
        "colab": {
          "base_uri": "https://localhost:8080/",
          "height": 219
        },
        "outputId": "74b2b60d-288a-41e6-9c5e-09099700e3ee"
      },
      "source": [
        "def get_cnn_v4(input_shape,num_classes): #get cnn version1\n",
        "  return Sequential([\n",
        "                      Conv2D(filters=32,kernel_size=(3,3),activation = 'relu',input_shape = input_shape),\n",
        "                      Conv2D(filters=32,kernel_size=(3,3),activation = 'relu', padding = 'same'),\n",
        "                      MaxPool2D(),\n",
        "                      Dropout(0.3),\n",
        "                     \n",
        "                      Conv2D(filters=64,kernel_size=(3,3),activation = 'relu',padding='same'),\n",
        "                      Conv2D(filters=64,kernel_size=(3,3),activation = 'relu'),\n",
        "                      MaxPool2D(),\n",
        "                      Dropout(0.3),\n",
        "                     \n",
        "                      Conv2D(filters=64,kernel_size=(3,3),activation = 'relu',padding = 'same'),\n",
        "                      Conv2D(filters=64,kernel_size=(3,3),activation = 'relu'),\n",
        "                      MaxPool2D(),\n",
        "                      Dropout(0.3),\n",
        "                     \n",
        "                      Flatten(),\n",
        "\n",
        "                      Dense(1024,activation='relu'),\n",
        "                      Dropout(0.3),\n",
        "                      \n",
        "                      Dense(num_classes,activation='softmax')\n",
        "  ])\n",
        "\n",
        "train_and_predict(get_cnn_v4(input_shape,num_classes))"
      ],
      "execution_count": 48,
      "outputs": [
        {
          "output_type": "stream",
          "text": [
            "Epoch 1/5\n",
            "272/272 [==============================] - 4s 13ms/step - loss: 2.5046 - accuracy: 0.3118 - val_loss: 1.0081 - val_accuracy: 0.7164\n",
            "Epoch 2/5\n",
            "272/272 [==============================] - 3s 12ms/step - loss: 0.8119 - accuracy: 0.7494 - val_loss: 0.1829 - val_accuracy: 0.9578\n",
            "Epoch 3/5\n",
            "272/272 [==============================] - 3s 13ms/step - loss: 0.3510 - accuracy: 0.8922 - val_loss: 0.0760 - val_accuracy: 0.9803\n",
            "Epoch 4/5\n",
            "272/272 [==============================] - 3s 12ms/step - loss: 0.2103 - accuracy: 0.9377 - val_loss: 0.0471 - val_accuracy: 0.9866\n",
            "Epoch 5/5\n",
            "272/272 [==============================] - 3s 13ms/step - loss: 0.1610 - accuracy: 0.9516 - val_loss: 0.0205 - val_accuracy: 0.9951\n"
          ],
          "name": "stdout"
        },
        {
          "output_type": "execute_result",
          "data": {
            "text/plain": [
              "0.972108843537415"
            ]
          },
          "metadata": {
            "tags": []
          },
          "execution_count": 48
        }
      ]
    },
    {
      "cell_type": "code",
      "metadata": {
        "id": "M3ujJonn-h5J",
        "colab_type": "code",
        "colab": {
          "base_uri": "https://localhost:8080/",
          "height": 219
        },
        "outputId": "dd12defd-7bdf-421d-911f-0e78c905ae3f"
      },
      "source": [
        "def get_cnn_v5(input_shape,num_classes): #get cnn version1\n",
        "  return Sequential([\n",
        "                      Conv2D(filters=32,kernel_size=(3,3),activation = 'relu',input_shape = input_shape),\n",
        "                      Conv2D(filters=32,kernel_size=(3,3),activation = 'relu', padding = 'same'),\n",
        "                      MaxPool2D(),\n",
        "                      Dropout(0.3),\n",
        "                     \n",
        "                      Conv2D(filters=64,kernel_size=(3,3),activation = 'relu',padding='same'),\n",
        "                      Conv2D(filters=64,kernel_size=(3,3),activation = 'relu'),\n",
        "                      MaxPool2D(),\n",
        "                      Dropout(0.3),\n",
        "                     \n",
        "                      Conv2D(filters=64,kernel_size=(3,3),activation = 'relu',padding = 'same'),\n",
        "                      Conv2D(filters=64,kernel_size=(3,3),activation = 'relu'),\n",
        "                      MaxPool2D(),\n",
        "                      Dropout(0.3),\n",
        "                     \n",
        "                      Flatten(),\n",
        "\n",
        "                      Dense(1024,activation='relu'),\n",
        "                      Dropout(0.3),\n",
        "                     \n",
        "                      Dense(1024,activation='relu'),\n",
        "                      Dropout(0.3),\n",
        "                      \n",
        "                      Dense(num_classes,activation='softmax')\n",
        "  ])\n",
        "\n",
        "train_and_predict(get_cnn_v5(input_shape,num_classes))"
      ],
      "execution_count": 49,
      "outputs": [
        {
          "output_type": "stream",
          "text": [
            "Epoch 1/5\n",
            "272/272 [==============================] - 4s 14ms/step - loss: 2.5200 - accuracy: 0.2940 - val_loss: 1.2512 - val_accuracy: 0.5808\n",
            "Epoch 2/5\n",
            "272/272 [==============================] - 4s 13ms/step - loss: 0.9336 - accuracy: 0.6946 - val_loss: 0.2836 - val_accuracy: 0.8978\n",
            "Epoch 3/5\n",
            "272/272 [==============================] - 4s 13ms/step - loss: 0.3943 - accuracy: 0.8750 - val_loss: 0.0990 - val_accuracy: 0.9724\n",
            "Epoch 4/5\n",
            "272/272 [==============================] - 4s 13ms/step - loss: 0.2390 - accuracy: 0.9287 - val_loss: 0.0497 - val_accuracy: 0.9855\n",
            "Epoch 5/5\n",
            "272/272 [==============================] - 4s 13ms/step - loss: 0.1784 - accuracy: 0.9474 - val_loss: 0.0312 - val_accuracy: 0.9901\n"
          ],
          "name": "stdout"
        },
        {
          "output_type": "execute_result",
          "data": {
            "text/plain": [
              "0.9680272108843537"
            ]
          },
          "metadata": {
            "tags": []
          },
          "execution_count": 49
        }
      ]
    },
    {
      "cell_type": "code",
      "metadata": {
        "id": "Ee08skzpABqV",
        "colab_type": "code",
        "colab": {}
      },
      "source": [
        "X_train_gray = color.rgb2gray(X_train).reshape(-1,32,32,1)\n",
        "X_test_gray = color.rgb2gray(X_test).reshape(-1,32,32,1)"
      ],
      "execution_count": 0,
      "outputs": []
    },
    {
      "cell_type": "code",
      "metadata": {
        "id": "D329dnbdEAqw",
        "colab_type": "code",
        "colab": {
          "base_uri": "https://localhost:8080/",
          "height": 35
        },
        "outputId": "b10ae1da-ae26-4bef-db37-538e95c35840"
      },
      "source": [
        "X_train_gray.reshape(-1,32,32,1).shape"
      ],
      "execution_count": 61,
      "outputs": [
        {
          "output_type": "execute_result",
          "data": {
            "text/plain": [
              "(34799, 32, 32, 1)"
            ]
          },
          "metadata": {
            "tags": []
          },
          "execution_count": 61
        }
      ]
    },
    {
      "cell_type": "code",
      "metadata": {
        "id": "1Tlt2UldC1pm",
        "colab_type": "code",
        "colab": {
          "base_uri": "https://localhost:8080/",
          "height": 219
        },
        "outputId": "01f64e5b-1d7e-4ceb-e29d-70483e14c7f1"
      },
      "source": [
        "model = get_cnn_v5((32,32,1),num_classes)\n",
        "model_trained = train_model(model,X_train_gray,y_train)\n",
        "predict(model_trained,X_test_gray,y_test)"
      ],
      "execution_count": 65,
      "outputs": [
        {
          "output_type": "stream",
          "text": [
            "Epoch 1/5\n",
            "272/272 [==============================] - 4s 14ms/step - loss: 2.6829 - accuracy: 0.2488 - val_loss: 0.8265 - val_accuracy: 0.7577\n",
            "Epoch 2/5\n",
            "272/272 [==============================] - 4s 13ms/step - loss: 0.6190 - accuracy: 0.7974 - val_loss: 0.1532 - val_accuracy: 0.9596\n",
            "Epoch 3/5\n",
            "272/272 [==============================] - 4s 13ms/step - loss: 0.2601 - accuracy: 0.9170 - val_loss: 0.0659 - val_accuracy: 0.9808\n",
            "Epoch 4/5\n",
            "272/272 [==============================] - 4s 13ms/step - loss: 0.1637 - accuracy: 0.9502 - val_loss: 0.0353 - val_accuracy: 0.9900\n",
            "Epoch 5/5\n",
            "272/272 [==============================] - 4s 13ms/step - loss: 0.1206 - accuracy: 0.9622 - val_loss: 0.0359 - val_accuracy: 0.9904\n"
          ],
          "name": "stdout"
        },
        {
          "output_type": "execute_result",
          "data": {
            "text/plain": [
              "0.9718820861678005"
            ]
          },
          "metadata": {
            "tags": []
          },
          "execution_count": 65
        }
      ]
    },
    {
      "cell_type": "code",
      "metadata": {
        "id": "d0Tuv3P-By9w",
        "colab_type": "code",
        "colab": {
          "base_uri": "https://localhost:8080/",
          "height": 284
        },
        "outputId": "af47779d-5fd1-4508-b09d-ab926f795406"
      },
      "source": [
        "plt.imshow(color.rgb2gray(X_train[0]), cmap = plt.get_cmap('gray'))"
      ],
      "execution_count": 54,
      "outputs": [
        {
          "output_type": "execute_result",
          "data": {
            "text/plain": [
              "<matplotlib.image.AxesImage at 0x7fcf4dd83438>"
            ]
          },
          "metadata": {
            "tags": []
          },
          "execution_count": 54
        },
        {
          "output_type": "display_data",
          "data": {
            "image/png": "[encoded data removed]",
            "text/plain": [
              "<Figure size 432x288 with 1 Axes>"
            ]
          },
          "metadata": {
            "tags": []
          }
        }
      ]
    },
    {
      "cell_type": "code",
      "metadata": {
        "id": "nq6nrDZvB8s8",
        "colab_type": "code",
        "colab": {}
      },
      "source": [
        ""
      ],
      "execution_count": 0,
      "outputs": []
    }
  ]
}